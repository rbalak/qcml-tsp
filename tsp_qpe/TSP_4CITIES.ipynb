{
 "cells": [
  {
   "cell_type": "code",
   "execution_count": 16,
   "metadata": {},
   "outputs": [],
   "source": [
    "from qiskit import QuantumRegister, ClassicalRegister, QuantumCircuit, transpile\n",
    "from qiskit_aer import StatevectorSimulator, QasmSimulator, Aer\n",
    "from qiskit.quantum_info import Statevector\n",
    "from qiskit.visualization import visualize_transition, plot_histogram, circuit_drawer, plot_bloch_multivector, plot_state_qsphere, array_to_latex\n",
    "import Our_Qiskit_Functions as oq\n",
    "from qiskit.circuit.library import QFT\n",
    "from qiskit import quantum_info as qi\n",
    "import numpy as np \n",
    "from numpy import pi\n",
    "import math as m\n",
    "import random\n",
    "import matplotlib.pyplot as plt\n",
    "import warnings\n",
    "warnings.filterwarnings('ignore')\n",
    "\n",
    "S_simulator = StatevectorSimulator()\n",
    "M_simulator = QasmSimulator()"
   ]
  },
  {
   "cell_type": "code",
   "execution_count": 17,
   "metadata": {},
   "outputs": [
    {
     "name": "stdout",
     "output_type": "stream",
     "text": [
      "Weight of paths:  [ 200  450  800 1250 1800  648]\n",
      "Sorted Weight:  [1800 1250  800  648  450  200]\n",
      "Normalised weight:  [0.04444444 0.1        0.17777778 0.27777778 0.4        0.144     ]\n"
     ]
    }
   ],
   "source": [
    "# we will find weight and normalise path \n",
    "distanceList = [10, 15, 20, 25, 30, 18] # a-b, a-c, a-d, b-c, b-d, c-d\n",
    "costList = [20, 30, 40, 50, 60, 36] # a-b, a-c, a-d, b-c, b-d, c-d\n",
    "\n",
    "\n",
    "weight__of_paths = np.array(costList)*np.array(distanceList)\n",
    "print(\"Weight of paths: \", weight__of_paths)\n",
    "\n",
    "sorted_weight = np.sort(weight__of_paths)[::-1 ]\n",
    "print(\"Sorted Weight: \", sorted_weight)\n",
    "\n",
    "elp =2  #eplison\n",
    "normalised_weight = weight__of_paths/(sum(sorted_weight[:4])  + elp)  \n",
    "print(\"Normalised weight: \", normalised_weight)\n"
   ]
  },
  {
   "cell_type": "code",
   "execution_count": 18,
   "metadata": {},
   "outputs": [
    {
     "name": "stdout",
     "output_type": "stream",
     "text": [
      "Solution1: 0.64\n",
      "Solution2: 0.69\n",
      "Solution3: 0.96\n"
     ]
    }
   ],
   "source": [
    "## solutions\n",
    "# A->B->C->D->A\n",
    "# A->B->D->C->A\n",
    "# A->C->B->D->A\n",
    "\n",
    "print(\"Solution1: {:.2f}\".format(normalised_weight[0]+normalised_weight[3]+normalised_weight[5]+normalised_weight[2]))   \n",
    "print(\"Solution2: {:.2f}\".format(normalised_weight[0]+normalised_weight[4]+normalised_weight[5]+normalised_weight[1]))\n",
    "print(\"Solution3: {:.2f}\".format(normalised_weight[1]+normalised_weight[3]+normalised_weight[4]+normalised_weight[2]))\n",
    "\n"
   ]
  },
  {
   "cell_type": "code",
   "execution_count": 19,
   "metadata": {},
   "outputs": [
    {
     "name": "stdout",
     "output_type": "stream",
     "text": [
      "True\n"
     ]
    }
   ],
   "source": [
    "m=8 # number of qubits for eigengates\n",
    "\n",
    "U111 =1\n",
    "U112 = np.exp(2j*pi*normalised_weight[0])\n",
    "U113 = np.exp(2j*pi*normalised_weight[1])\n",
    "U114 = np.exp(2j*pi*normalised_weight[2])\n",
    "U1=np.diag([U111, U112, U113, U114])\n",
    "U221 =np.exp(2j*pi*normalised_weight[0])\n",
    "U222 = 1\n",
    "U223 = np.exp(2j*pi*normalised_weight[3])\n",
    "U224 = np.exp(2j*pi*normalised_weight[4])\n",
    "U2=np.diag([U221, U222, U223, U224])\n",
    "U331 =np.exp(2j*pi*normalised_weight[1])\n",
    "U332 = np.exp(2j*pi*normalised_weight[3])\n",
    "U333 = 1\n",
    "U334 = np.exp(2j*pi*normalised_weight[5])\n",
    "U3=np.diag([U331, U332, U333, U334])\n",
    "U441 =np.exp(2j*pi*normalised_weight[2])\n",
    "U442 = np.exp(2j*pi*normalised_weight[4])\n",
    "U443 = np.exp(2j*pi*normalised_weight[5])\n",
    "U444 = 1\n",
    "U4=np.diag([U441, U442, U443, U444])\n",
    "\n",
    "U = np.kron(U1, np.kron(U2, np.kron(U3, U4)))\n",
    "\n",
    "print(np.all(np.diag(U) != 0)) # confirming only the diagonal is being used.\n",
    "Ugate = qi.Operator(U).to_instruction()\n",
    "Ugate.label = \"CU\"\n",
    "CUgate = Ugate.control()\n",
    "\n",
    "\n",
    "\n"
   ]
  },
  {
   "cell_type": "code",
   "execution_count": 20,
   "metadata": {},
   "outputs": [],
   "source": [
    "import csv\n",
    "with open(\"CU.csv\", \"w\", newline=\"\") as file:\n",
    "    writer = csv.writer(file)\n",
    "    writer.writerows(U)"
   ]
  },
  {
   "cell_type": "code",
   "execution_count": 21,
   "metadata": {},
   "outputs": [
    {
     "name": "stdout",
     "output_type": "stream",
     "text": [
      "[108, 114, 180]\n"
     ]
    }
   ],
   "source": [
    "## confirming the eigenstates are correct\n",
    "eigstatelist = ['01101100', #1230 A->B->C->D->A\n",
    "'01110010', #1302 A->B->D->C->A\n",
    "'10110100'] #2310 A->C->B->D->A\n",
    "U_angles = np.diag(np.angle(U))/2/np.pi\n",
    "eiglistint = [int(eigstatelist[i], 2) for i in range(len(eigstatelist))]\n",
    "# converting from (-pi,pi) to (0,2pi)\n",
    "sol_check = U_angles[eiglistint] + 1\n",
    "sol_check\n",
    "print(eiglistint)\n"
   ]
  },
  {
   "cell_type": "code",
   "execution_count": 34,
   "metadata": {},
   "outputs": [],
   "source": [
    "def Binary(N,total,LSB):\n",
    "  '''\n",
    "  Input: N (integer) total (integer) LSB (string)\n",
    "  Returns the base-2 binary equivilant of N according to left or right least significant bit notation\n",
    "  '''\n",
    "  qubits = int(m.log(total, 2))\n",
    "  b_num = np.zeros(qubits)\n",
    "  for i in np.arange(qubits):\n",
    "    if( N/((2)**(qubits-i-1)) >= 1):\n",
    "      if (LSB == 'R'):\n",
    "        b_num[i] = 1\n",
    "      if(LSB== 'L'):\n",
    "        b_num[int(qubits-(i+1))] = 1\n",
    "      N = N - 2**(qubits-i-1)\n",
    "  B = []\n",
    "  for j in np.arange(len(b_num)): \n",
    "    B.append(int(b_num[j]))\n",
    "  return B"
   ]
  },
  {
   "cell_type": "code",
   "execution_count": 39,
   "metadata": {},
   "outputs": [],
   "source": [
    "def Wavefunction( obj, *args, **kwargs):\n",
    "  '''\n",
    "  Displays the wavefunction of the quantum system\n",
    "  '''\n",
    "  if(type(obj) == QuantumCircuit ):\n",
    "    statevec = S_simulator.run(obj, shots=1 ).result().get_statevector() \n",
    "  if(type(obj) == np.ndarray):\n",
    "    statevec = obj\n",
    "  sys = False\n",
    "  NL = False\n",
    "  dec = 5\n",
    "  if 'precision' in kwargs:\n",
    "    dec = int(kwargs['precision'] )  \n",
    "  if 'column' in kwargs:  \n",
    "    NL = kwargs['column']\n",
    "  if 'systems' in kwargs:\n",
    "    systems=kwargs['systems']\n",
    "    sys = True\n",
    "    last_sys= int(len(systems)-1)\n",
    "    show_systems = []\n",
    "    for s_chk in np.arange(len(systems)): \n",
    "      if( type(systems [s_chk])!=int ):\n",
    "        raise Exception('systems must be an array of all integers')\n",
    "    if 'show_systems' in kwargs: \n",
    "      show_systems = kwargs['show_systems']\n",
    "      if(len(systems)!=len (show_systems) ):\n",
    "        raise Exception('systems and show_systems need to be arrays of equal length')\n",
    "      for ls in np.arange(len(show_systems)): \n",
    "        if((show_systems [ ls]!=True) and (show_systems [ ls] !=False)): \n",
    "          raise Exception('show_systems must be an array of Truth Values') \n",
    "        if(show_systems [ ls] ==True): \n",
    "          last_sys= int(ls)\n",
    "\n",
    "    else:\n",
    "      for ss in np.arange(len(systems)): \n",
    "        show_systems.append(True)\n",
    "  wavefunction = ''\n",
    "  qubits = int(m.log(len(np.asarray(statevec)),2)) \n",
    "  for i in np.arange( int(len(np.asarray(statevec))) ): \n",
    "    value = round(statevec[int(i)].real, dec) + round(statevec[int(i)].imag, dec) * 1j\n",
    "    if( (value.real!=0) or (value.imag!=0)): \n",
    "      state= list(Binary(int(i), int(2**qubits),'L'))\n",
    "      state_str = ''\n",
    "      if( sys == True ):    #Systems and Show Systems\n",
    "        k = 0 \n",
    "        for s in np.arange(len(systems)):\n",
    "          if(show_systems [s]==True):\n",
    "            if(int(s)!=last_sys):\n",
    "              state.insert(int(k+systems [s]), '>|' ) \n",
    "              k = int(k+systems[s]+1)\n",
    "            else:\n",
    "              k = int(k+systems[s])\n",
    "          else:\n",
    "            for s2 in np.arange(systems [s]): \n",
    "              del state[int(k)]\n",
    "      for j in np.arange(len(state)):\n",
    "        if(type(state[j])!=str):\n",
    "          state_str = state_str+str(int(state[j]))\n",
    "        else:\n",
    "          state_str = state_str+state[j]\n",
    "      if ((value.real!=0) and (value.imag!=0)):\n",
    "        if( value.imag> 0):\n",
    "          wavefunction = wavefunction + str(value.real) + '+' + str(value.imag) + 'j |' + state_str + '>   '\n",
    "        else:\n",
    "          wavefunction = wavefunction + str(value.real) +'' + str(value.imag) + 'j |' + state_str + '>    '\n",
    "      if( (value.real!=0) and (value.imag==0)): \n",
    "        wavefunction = wavefunction +str(value.real)+' |'+state_str +'>     '\n",
    "      if((value.real==0) and (value.imag!=0)): \n",
    "        wavefunction = wavefunction +str(value.imag)+'j |'+state_str+ '>     '\n",
    "      if (NL):\n",
    "        wavefunction = wavefunction + '\\n'\n",
    "  print(wavefunction)"
   ]
  },
  {
   "cell_type": "code",
   "execution_count": 40,
   "metadata": {},
   "outputs": [],
   "source": [
    "def Measurement(quantumcircuit, **kwargs):\n",
    "  '''\n",
    "  Executes a measurement(s) of a QuantumCircuit object for tidier printing\n",
    "  Keyword Arguments:\n",
    "  shots (integer) - number of trials to execute for the measurement(s)\n",
    "  return_M (Bool) - indictaes whether to return the Dictionary object containng measurement resul\n",
    "  print_M (Bool) - indictaes whether to print the measurement results\n",
    "  column (Bool) - prints each state in a vertical column\n",
    "  '''\n",
    "  p_M = True\n",
    "  S=1\n",
    "  ret = False\n",
    "  NL = False\n",
    "  if 'shots' in kwargs:\n",
    "    S = int(kwargs['shots'])\n",
    "  if 'return_M' in kwargs:\n",
    "    ret = kwargs['return_M']\n",
    "  if 'print_M' in kwargs:\n",
    "    p_M = kwargs['print_M']\n",
    "  if 'column' in kwargs:\n",
    "    NL = kwargs['column']\n",
    "  M1 = M_simulator.run(quantumcircuit, shots=S).result().get_counts(quantumcircuit)\n",
    "  M2 = {}\n",
    "  k1 = list(M1.keys())\n",
    "  v1 = list(M1.values())\n",
    "  for k in np.arange(len(k1)):\n",
    "    key_list = list(k1[k])\n",
    "    new_key = ''\n",
    "    for j in np.arange(len(key_list)):\n",
    "      new_key = new_key+key_list[len(key_list)-(j+1)]\n",
    "    M2[new_key] = v1[k]\n",
    "  if(p_M):\n",
    "    k2 = list(M2.keys())\n",
    "    v2 = list(M2.values())\n",
    "    measurements = ''\n",
    "    for i in np.arange( len(k2) ):\n",
    "      m_str = str(v2[i])+'|'\n",
    "      for j in np.arange(len(k2[i])):\n",
    "        if( k2[i][j] == '0' ):\n",
    "          m_str = m_str+'0'\n",
    "        if( k2[i][j] == '1' ):\n",
    "          m_str = m_str+'1'\n",
    "        if( k2[i][j] == ' ' ):\n",
    "          m_str = m_str+'>|'\n",
    "      m_str = m_str+'>   '\n",
    "      if(NL):\n",
    "        m_str = m_str + '\\n'\n",
    "      measurements = measurements + m_str\n",
    "    print(measurements)\n",
    "  if(ret):\n",
    "    return M2"
   ]
  },
  {
   "cell_type": "code",
   "execution_count": 43,
   "metadata": {},
   "outputs": [
    {
     "data": {
      "image/png": "[encoded data removed]",
      "text/plain": [
       "<Figure size 203.683x200.667 with 1 Axes>"
      ]
     },
     "execution_count": 43,
     "metadata": {},
     "output_type": "execute_result"
    }
   ],
   "source": [
    "qc = QuantumCircuit(2)\n",
    "qc.h(1)\n",
    "# Apply a controlled-Z gate (where Z = [[1, 0], [0, -1]])\n",
    "#qc.cz(0, 1)\n",
    "\n",
    "# Apply a controlled-Hadamard gate\n",
    "\n",
    "\n",
    "# Draw the circuit\n",
    "qc.draw('mpl')"
   ]
  },
  {
   "cell_type": "code",
   "execution_count": 45,
   "metadata": {},
   "outputs": [
    {
     "ename": "AttributeError",
     "evalue": "'int' object has no attribute 'log'",
     "output_type": "error",
     "traceback": [
      "\u001b[1;31m---------------------------------------------------------------------------\u001b[0m",
      "\u001b[1;31mAttributeError\u001b[0m                            Traceback (most recent call last)",
      "Cell \u001b[1;32mIn[45], line 1\u001b[0m\n\u001b[1;32m----> 1\u001b[0m Wavefunction(qc)\n",
      "Cell \u001b[1;32mIn[39], line 38\u001b[0m, in \u001b[0;36mWavefunction\u001b[1;34m(obj, *args, **kwargs)\u001b[0m\n\u001b[0;32m     36\u001b[0m       show_systems\u001b[38;5;241m.\u001b[39mappend(\u001b[38;5;28;01mTrue\u001b[39;00m)\n\u001b[0;32m     37\u001b[0m wavefunction \u001b[38;5;241m=\u001b[39m \u001b[38;5;124m'\u001b[39m\u001b[38;5;124m'\u001b[39m\n\u001b[1;32m---> 38\u001b[0m qubits \u001b[38;5;241m=\u001b[39m \u001b[38;5;28mint\u001b[39m(m\u001b[38;5;241m.\u001b[39mlog(\u001b[38;5;28mlen\u001b[39m(np\u001b[38;5;241m.\u001b[39masarray(statevec)),\u001b[38;5;241m2\u001b[39m)) \n\u001b[0;32m     39\u001b[0m \u001b[38;5;28;01mfor\u001b[39;00m i \u001b[38;5;129;01min\u001b[39;00m np\u001b[38;5;241m.\u001b[39marange( \u001b[38;5;28mint\u001b[39m(\u001b[38;5;28mlen\u001b[39m(np\u001b[38;5;241m.\u001b[39masarray(statevec))) ): \n\u001b[0;32m     40\u001b[0m   value \u001b[38;5;241m=\u001b[39m \u001b[38;5;28mround\u001b[39m(statevec[\u001b[38;5;28mint\u001b[39m(i)]\u001b[38;5;241m.\u001b[39mreal, dec) \u001b[38;5;241m+\u001b[39m \u001b[38;5;28mround\u001b[39m(statevec[\u001b[38;5;28mint\u001b[39m(i)]\u001b[38;5;241m.\u001b[39mimag, dec) \u001b[38;5;241m*\u001b[39m \u001b[38;5;241m1\u001b[39mj\n",
      "\u001b[1;31mAttributeError\u001b[0m: 'int' object has no attribute 'log'"
     ]
    }
   ],
   "source": [
    "Wavefunction(qc)"
   ]
  },
  {
   "cell_type": "code",
   "execution_count": null,
   "metadata": {},
   "outputs": [],
   "source": []
  }
 ],
 "metadata": {
  "kernelspec": {
   "display_name": "QCML_Udayan",
   "language": "python",
   "name": "python3"
  },
  "language_info": {
   "codemirror_mode": {
    "name": "ipython",
    "version": 3
   },
   "file_extension": ".py",
   "mimetype": "text/x-python",
   "name": "python",
   "nbconvert_exporter": "python",
   "pygments_lexer": "ipython3",
   "version": "3.12.7"
  }
 },
 "nbformat": 4,
 "nbformat_minor": 2
}
