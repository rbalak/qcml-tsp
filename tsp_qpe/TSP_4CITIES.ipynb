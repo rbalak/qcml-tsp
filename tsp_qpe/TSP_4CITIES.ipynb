{
 "cells": [
  {
   "cell_type": "code",
   "execution_count": 1,
   "metadata": {},
   "outputs": [],
   "source": [
    "from qiskit import QuantumRegister, ClassicalRegister, QuantumCircuit, transpile\n",
    "from qiskit_aer import StatevectorSimulator, QasmSimulator, Aer\n",
    "from qiskit.quantum_info import Statevector\n",
    "from qiskit.visualization import visualize_transition, plot_histogram, circuit_drawer, plot_bloch_multivector, plot_state_qsphere, array_to_latex\n",
    "import Our_Qiskit_Functions as oq\n",
    "from qiskit.circuit.library import QFT\n",
    "import numpy as np \n",
    "from numpy import pi\n",
    "import math as m\n",
    "import random\n",
    "import matplotlib.pyplot as plt\n",
    "import warnings\n",
    "warnings.filterwarnings('ignore')\n",
    "\n",
    "S_simulator = StatevectorSimulator()\n",
    "M_simulator = QasmSimulator()"
   ]
  },
  {
   "cell_type": "code",
   "execution_count": 11,
   "metadata": {},
   "outputs": [
    {
     "name": "stdout",
     "output_type": "stream",
     "text": [
      "Weight of paths:  [ 200  450  800 1250 1800  648]\n",
      "Sorted Weight:  [1800 1250  800  648  450  200]\n",
      "Normalised weight:  [0.04444444 0.1        0.17777778 0.27777778 0.4        0.144     ]\n"
     ]
    }
   ],
   "source": [
    "# we will find weight and normalise path \n",
    "distanceList = [10, 15, 20, 25, 30, 18] # a-b, a-c, a-d, b-c, b-d, c-d\n",
    "costList = [20, 30, 40, 50, 60, 36] # a-b, a-c, a-d, b-c, b-d, c-d\n",
    "\n",
    "\n",
    "weight__of_paths = np.array(costList)*np.array(distanceList)\n",
    "print(\"Weight of paths: \", weight__of_paths)\n",
    "\n",
    "sorted_weight = np.sort(weight__of_paths)[::-1 ]\n",
    "print(\"Sorted Weight: \", sorted_weight)\n",
    "\n",
    "elp =2  #eplison\n",
    "normalised_weight = weight__of_paths/(sum(sorted_weight[:4])  + elp)  \n",
    "print(\"Normalised weight: \", normalised_weight)\n"
   ]
  },
  {
   "cell_type": "code",
   "execution_count": 13,
   "metadata": {},
   "outputs": [
    {
     "name": "stdout",
     "output_type": "stream",
     "text": [
      "Solution1: 0.64\n",
      "Solution2: 0.69\n",
      "Solution3: 0.96\n"
     ]
    }
   ],
   "source": [
    "## solutions\n",
    "# A->B->C->D->A\n",
    "# A->B->D->C->A\n",
    "# A->C->B->D->A\n",
    "\n",
    "print(\"Solution1: {:.2f}\".format(normalised_weight[0]+normalised_weight[3]+normalised_weight[5]+normalised_weight[2]))   \n",
    "print(\"Solution2: {:.2f}\".format(normalised_weight[0]+normalised_weight[4]+normalised_weight[5]+normalised_weight[1]))\n",
    "print(\"Solution3: {:.2f}\".format(normalised_weight[1]+normalised_weight[3]+normalised_weight[4]+normalised_weight[2]))\n",
    "\n"
   ]
  }
 ],
 "metadata": {
  "kernelspec": {
   "display_name": "QCML_Udayan",
   "language": "python",
   "name": "python3"
  },
  "language_info": {
   "codemirror_mode": {
    "name": "ipython",
    "version": 3
   },
   "file_extension": ".py",
   "mimetype": "text/x-python",
   "name": "python",
   "nbconvert_exporter": "python",
   "pygments_lexer": "ipython3",
   "version": "3.12.7"
  }
 },
 "nbformat": 4,
 "nbformat_minor": 2
}
