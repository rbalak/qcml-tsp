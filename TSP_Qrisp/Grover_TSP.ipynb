{
 "cells": [
  {
   "cell_type": "code",
   "execution_count": 1,
   "id": "ad3a903a-a389-436a-a801-ac4e33fe192b",
   "metadata": {},
   "outputs": [],
   "source": [
    "import numpy as np\n",
    "from qrisp import *\n",
    "\n",
    "city_amount = 4\n",
    "\n",
    "distance_matrix = np.array([[0,     0.25,   0.125,  0.5],\n",
    "                            [0.25,  0,      0.625,  0.375],\n",
    "                            [0.125, 0.625,  0,      0.75],\n",
    "                            [0.5,   0.375,  0.75,   0]])/city_amount\n"
   ]
  },
  {
   "cell_type": "code",
   "execution_count": 2,
   "id": "6f65cbca-99ee-4187-9f38-dcb3a24822cb",
   "metadata": {},
   "outputs": [
    {
     "name": "stdout",
     "output_type": "stream",
     "text": [
      "                                                                                     \u001b[2K\r"
     ]
    }
   ],
   "source": [
    "import numpy as np\n",
    "from qrisp import *\n",
    "\n",
    "city_amount = 4\n",
    "\n",
    "distance_matrix = np.array([[0,     0.25,   0.125,  0.5],\n",
    "                            [0.25,  0,      0.625,  0.375],\n",
    "                            [0.125, 0.625,  0,      0.75],\n",
    "                            [0.5,   0.375,  0.75,   0]])/4\n",
    "\n",
    "\n",
    "#Create a function that generates a state of superposition of all permutations\n",
    "def swap_to_front(qa, index):\n",
    "\n",
    "    with invert():\n",
    "        #The keyword ctrl_method = \"gray_pt\" allows the controlled swaps to be synthesized\n",
    "        #using Margolus gates. These gates perform the same operation as a regular Toffoli\n",
    "        #but add a different phase for each input. This phase will not matter though,\n",
    "        #since it will be reverted once the ancilla values of the oracle are uncomputed.\n",
    "        demux(qa[0], index, qa, permit_mismatching_size = True, ctrl_method = \"gray_pt\")\n",
    "\n",
    "def eval_perm(perm_specifiers):\n",
    "\n",
    "    N = len(perm_specifiers)\n",
    "\n",
    "    #To filter out the cyclic permutations, we impose that the first city is always city 0\n",
    "    #We will have to consider this assumption later when calculating the route distance\n",
    "    #by manually adding the trip distance of the first trip (from city 0) and the\n",
    "    #last trip (to city 0)\n",
    "    qa = QuantumArray(QuantumFloat(int(np.ceil(np.log2(city_amount)))), city_amount-1)\n",
    "\n",
    "    qa[:] = np.arange(1, city_amount)\n",
    "\n",
    "    for i in range(N):\n",
    "        swap_to_front(qa[i:], perm_specifiers[i])\n",
    "\n",
    "    return qa\n",
    "\n",
    "\n",
    "#Create function that returns QuantumFloats specifying the permutations (these will be in uniform superposition)\n",
    "def create_perm_specifiers(city_amount, init_seq = None):\n",
    "\n",
    "    perm_specifiers = []\n",
    "\n",
    "    for i in range(city_amount - 1):\n",
    "\n",
    "        qf_size = int(np.ceil(np.log2(city_amount-i)))\n",
    "\n",
    "        if i == 0:\n",
    "            continue\n",
    "\n",
    "        temp_qf = QuantumFloat(qf_size)\n",
    "\n",
    "        if not init_seq is None:\n",
    "            temp_qf[:] = init_seq[i-1]\n",
    "\n",
    "        perm_specifiers.append(temp_qf)\n",
    "\n",
    "    return perm_specifiers\n",
    "\n",
    "#Create function that evaluates if a certain permutation is below a certain distance\n",
    "\n",
    "\n",
    "#First implement distance function\n",
    "@as_hamiltonian\n",
    "def trip_distance(i, j, iter = 1):\n",
    "    return distance_matrix[i, j]*2*np.pi*iter\n",
    "\n",
    "@as_hamiltonian\n",
    "def distance_to_0(j, iter = 1):\n",
    "    return distance_matrix[0, j]*2*np.pi*iter\n",
    "\n",
    "def phase_apply_summed_distance(itinerary, iter = 1):\n",
    "\n",
    "    #Add the distance of the first trip\n",
    "    distance_to_0(itinerary[0], iter = iter)\n",
    "\n",
    "    #Add the distance of the last trip\n",
    "    distance_to_0(itinerary[-1], iter = iter)\n",
    "\n",
    "    #Add the remaining trips\n",
    "    for i in range(city_amount -2):\n",
    "        trip_distance(itinerary[i], itinerary[i+1], iter = iter)\n",
    "\n",
    "@lifted\n",
    "def qpe_calc_perm_travel_distance(itinerary, precision):\n",
    "\n",
    "    if precision is None:\n",
    "        raise Exception(\"Tried to evaluate oracle without specifying a precision\")\n",
    "\n",
    "    return QPE(itinerary, phase_apply_summed_distance, precision = precision, iter_spec = True)\n",
    "\n",
    "def qdict_calc_perm_travel_distance(itinerary, precision):\n",
    "\n",
    "    #A QuantumFloat with n qubits and exponent -n\n",
    "    #can represent values between 0 and 1\n",
    "    res = QuantumFloat(precision, -precision)\n",
    "\n",
    "    #Fill QuantumDictionary\n",
    "    qd = QuantumDictionary(return_type = res)\n",
    "    for i in range(city_amount):\n",
    "        for j in range(city_amount):\n",
    "            qd[(i, j)] = distance_matrix[i, j]\n",
    "\n",
    "\n",
    "    #This dictionary contains the distances of each city to city 0\n",
    "    qd_to_zero = QuantumDictionary(return_type = res)\n",
    "\n",
    "    for i in range(city_amount):\n",
    "        qd_to_zero[i] = distance_matrix[0, i]\n",
    "\n",
    "    #The distance of the first trip is acquired by loading from qd_to_zero\n",
    "    res = qd_to_zero[itinerary[0]]\n",
    "\n",
    "    #Add the distance of the final trip\n",
    "    final_trip_distance = qd_to_zero[itinerary[-1]]\n",
    "    res += final_trip_distance\n",
    "    final_trip_distance.uncompute(recompute = True)\n",
    "\n",
    "    #Evaluate result\n",
    "    for i in range(city_amount-2):\n",
    "        trip_distance = qd[itinerary[i], itinerary[(i+1)%city_amount]]\n",
    "        res += trip_distance\n",
    "        trip_distance.uncompute(recompute = True)\n",
    "\n",
    "    return res\n",
    "\n",
    "@auto_uncompute\n",
    "def eval_distance_threshold(perm_specifiers, precision, threshold, method = \"qpe\"):\n",
    "\n",
    "    itinerary = eval_perm(perm_specifiers)\n",
    "\n",
    "    if method == \"qdict\":\n",
    "      distance = qdict_calc_perm_travel_distance(itinerary, precision)\n",
    "    elif method == \"qpe\":\n",
    "      distance = qpe_calc_perm_travel_distance(itinerary, precision)\n",
    "    else:\n",
    "      raise Exception(f\"Don't know method {method}\")\n",
    "\n",
    "    is_below_treshold = (distance <= threshold)\n",
    "\n",
    "    z(is_below_treshold)\n",
    "\n",
    "\n",
    "#Create permutation specifiers\n",
    "perm_specifiers = create_perm_specifiers(city_amount)\n",
    "\n",
    "\n",
    "# eval_distance_threshold(perm_specifiers, 5, 0.53125)\n",
    "\n",
    "\n",
    "from qrisp.grover import grovers_alg\n",
    "\n",
    "from math import factorial\n",
    "\n",
    "winner_state_amount = 2**sum([qv.size for qv in perm_specifiers])/factorial(city_amount-2)#average number of state per permutation * (4 cyclic shifts)*(2 directions)\n",
    "\n",
    "\n",
    "#Evaluate Grovers algorithm\n",
    "grovers_alg(perm_specifiers, #Permutation specifiers\n",
    "            eval_distance_threshold, #Oracle function\n",
    "            kwargs = {\"threshold\" : 0.4, \"precision\" : 5, \"method\" : \"qpe\"}, #Specify the keyword arguments for the Oracle\n",
    "            winner_state_amount = winner_state_amount) #Specify the estimated amount of winners\n",
    "\n",
    "#Retrieve measurement\n",
    "res = multi_measurement(perm_specifiers)"
   ]
  },
  {
   "cell_type": "code",
   "execution_count": 3,
   "id": "91de7cb7-8d3c-4ac1-962c-28f77ba00def",
   "metadata": {},
   "outputs": [
    {
     "data": {
      "text/plain": [
       "{(0, 1): 0.5, (1, 1): 0.5}"
      ]
     },
     "execution_count": 3,
     "metadata": {},
     "output_type": "execute_result"
    }
   ],
   "source": [
    "res\n"
   ]
  },
  {
   "cell_type": "code",
   "execution_count": 4,
   "id": "ed50b6e0-5bde-4067-b3e5-b8c5ab2d857c",
   "metadata": {},
   "outputs": [],
   "source": [
    "winning_specifiers = create_perm_specifiers(city_amount)\n"
   ]
  },
  {
   "cell_type": "code",
   "execution_count": 5,
   "id": "517b3e3e-3c61-4f7b-b5b3-20fbabb5f6ef",
   "metadata": {},
   "outputs": [],
   "source": [
    "winning_specifiers[0][:] = 0\n"
   ]
  },
  {
   "cell_type": "code",
   "execution_count": 6,
   "id": "396de94f-91ca-44e6-93db-da468693fc30",
   "metadata": {},
   "outputs": [],
   "source": [
    "winning_specifiers[1][:] = 1\n"
   ]
  },
  {
   "cell_type": "code",
   "execution_count": 7,
   "id": "860a4e6d-615d-47d1-9a6d-b2b490771b70",
   "metadata": {},
   "outputs": [],
   "source": [
    "winning_permutation = eval_perm(winning_specifiers)\n"
   ]
  },
  {
   "cell_type": "code",
   "execution_count": 8,
   "id": "7595e7a4-b299-4217-9b71-92a32b508788",
   "metadata": {},
   "outputs": [
    {
     "name": "stdout",
     "output_type": "stream",
     "text": [
      "                                                                                     \u001b[2K\r"
     ]
    },
    {
     "data": {
      "text/plain": [
       "OutcomeArray([1, 3, 2])"
      ]
     },
     "execution_count": 8,
     "metadata": {},
     "output_type": "execute_result"
    }
   ],
   "source": [
    "winning_permutation.most_likely()\n"
   ]
  },
  {
   "cell_type": "code",
   "execution_count": 9,
   "id": "c398c529-cfbc-4d1f-adae-268406b69b7b",
   "metadata": {},
   "outputs": [],
   "source": [
    "qpe_compiled_qc = perm_specifiers[0].qs.compile()\n"
   ]
  },
  {
   "cell_type": "code",
   "execution_count": 10,
   "id": "4485226d-5ab6-44f8-ab58-4c53821d06f3",
   "metadata": {},
   "outputs": [
    {
     "data": {
      "text/plain": [
       "1193"
      ]
     },
     "execution_count": 10,
     "metadata": {},
     "output_type": "execute_result"
    }
   ],
   "source": [
    "qpe_compiled_qc.depth()\n"
   ]
  },
  {
   "cell_type": "code",
   "execution_count": 11,
   "id": "58cd89ae-03f8-440f-9c82-72e32bd7eb55",
   "metadata": {},
   "outputs": [
    {
     "data": {
      "text/plain": [
       "1180"
      ]
     },
     "execution_count": 11,
     "metadata": {},
     "output_type": "execute_result"
    }
   ],
   "source": [
    "qpe_compiled_qc.cnot_count()\n"
   ]
  },
  {
   "cell_type": "code",
   "execution_count": 12,
   "id": "416bc466-88a9-4eb2-b806-e0482a01f8a8",
   "metadata": {},
   "outputs": [
    {
     "data": {
      "text/plain": [
       "17"
      ]
     },
     "execution_count": 12,
     "metadata": {},
     "output_type": "execute_result"
    }
   ],
   "source": [
    "qpe_compiled_qc.num_qubits()\n"
   ]
  },
  {
   "cell_type": "code",
   "execution_count": 13,
   "id": "a14e6fc8-aadb-41e4-9928-afa7b122e590",
   "metadata": {},
   "outputs": [],
   "source": [
    "qdict_compiled_qc = perm_specifiers[0].qs.compile()\n"
   ]
  },
  {
   "cell_type": "code",
   "execution_count": 14,
   "id": "05764866-1317-4d8d-bdbd-4a678639c3b7",
   "metadata": {},
   "outputs": [
    {
     "data": {
      "text/plain": [
       "1193"
      ]
     },
     "execution_count": 14,
     "metadata": {},
     "output_type": "execute_result"
    }
   ],
   "source": [
    "qdict_compiled_qc.depth()\n"
   ]
  },
  {
   "cell_type": "code",
   "execution_count": 15,
   "id": "ef644342-b5ec-406f-b501-af90b6c1b1ff",
   "metadata": {},
   "outputs": [
    {
     "data": {
      "text/plain": [
       "1180"
      ]
     },
     "execution_count": 15,
     "metadata": {},
     "output_type": "execute_result"
    }
   ],
   "source": [
    "qdict_compiled_qc.cnot_count()\n"
   ]
  },
  {
   "cell_type": "code",
   "execution_count": 16,
   "id": "593a463e-23ea-49cd-8a40-c3f043974ad8",
   "metadata": {},
   "outputs": [
    {
     "data": {
      "text/plain": [
       "17"
      ]
     },
     "execution_count": 16,
     "metadata": {},
     "output_type": "execute_result"
    }
   ],
   "source": [
    "qdict_compiled_qc.num_qubits()\n"
   ]
  },
  {
   "cell_type": "code",
   "execution_count": null,
   "id": "d5731936-bca8-4cd0-b69f-a1d98252ab21",
   "metadata": {},
   "outputs": [],
   "source": []
  }
 ],
 "metadata": {
  "kernelspec": {
   "display_name": "QCML_Project",
   "language": "python",
   "name": "python3"
  },
  "language_info": {
   "codemirror_mode": {
    "name": "ipython",
    "version": 3
   },
   "file_extension": ".py",
   "mimetype": "text/x-python",
   "name": "python",
   "nbconvert_exporter": "python",
   "pygments_lexer": "ipython3",
   "version": "3.12.7"
  }
 },
 "nbformat": 4,
 "nbformat_minor": 5
}
