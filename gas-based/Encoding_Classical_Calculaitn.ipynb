{
 "cells": [
  {
   "cell_type": "code",
   "execution_count": 3,
   "id": "5831c0fb",
   "metadata": {},
   "outputs": [
    {
     "name": "stdout",
     "output_type": "stream",
     "text": [
      "Route: A -> B -> C -> D | Total Distance: 0.5890 radians\n",
      "Route: A -> B -> D -> C | Total Distance: 0.6872 radians\n",
      "Route: A -> C -> B -> D | Total Distance: 0.5890 radians\n",
      "Route: A -> C -> D -> B | Total Distance: 0.3927 radians\n",
      "Route: A -> D -> B -> C | Total Distance: 0.6872 radians\n",
      "Route: A -> D -> C -> B | Total Distance: 1.1781 radians\n",
      "Route: B -> A -> C -> D | Total Distance: 0.6872 radians\n",
      "Route: B -> A -> D -> C | Total Distance: 1.1781 radians\n",
      "Route: B -> C -> A -> D | Total Distance: 0.7854 radians\n",
      "Route: B -> C -> D -> A | Total Distance: 0.5890 radians\n",
      "Route: B -> D -> A -> C | Total Distance: 0.3927 radians\n",
      "Route: B -> D -> C -> A | Total Distance: 0.6872 radians\n",
      "Route: C -> A -> B -> D | Total Distance: 0.4909 radians\n",
      "Route: C -> A -> D -> B | Total Distance: 0.6872 radians\n",
      "Route: C -> B -> A -> D | Total Distance: 1.1781 radians\n",
      "Route: C -> B -> D -> A | Total Distance: 0.6872 radians\n",
      "Route: C -> D -> A -> B | Total Distance: 0.5890 radians\n",
      "Route: C -> D -> B -> A | Total Distance: 0.6872 radians\n",
      "Route: D -> A -> B -> C | Total Distance: 0.5890 radians\n",
      "Route: D -> A -> C -> B | Total Distance: 0.6872 radians\n",
      "Route: D -> B -> A -> C | Total Distance: 0.5890 radians\n",
      "Route: D -> B -> C -> A | Total Distance: 0.4909 radians\n",
      "Route: D -> C -> A -> B | Total Distance: 0.7854 radians\n",
      "Route: D -> C -> B -> A | Total Distance: 1.1781 radians\n"
     ]
    }
   ],
   "source": [
    "import numpy as np\n",
    "from math import pi\n",
    "from itertools import permutations\n",
    "\n",
    "# Define theta matrix (distance between cities using angle-based measure)\n",
    "theta_matrix = np.array([\n",
    "    [0, pi/16, pi/32, pi/8],   # distances from city A\n",
    "    [pi/8, 0, pi/16, pi/32],   # distances from city B\n",
    "    [pi/16, pi/8, 0, pi/16],   # distances from city C\n",
    "    [pi/16, pi/32, pi/8, 0]    # distances from city D\n",
    "])\n",
    "\n",
    "# City indices: A=0, B=1, C=2, D=3\n",
    "cities = [0, 1, 2, 3]\n",
    "\n",
    "# Generate all permutations of cities\n",
    "routes = list(permutations(cities))\n",
    "\n",
    "# Calculate and print distances for each route\n",
    "for route in routes:\n",
    "    distance = 0\n",
    "    for i in range(len(route) - 1):\n",
    "        from_city = route[i]\n",
    "        to_city = route[i + 1]\n",
    "        distance += theta_matrix[from_city][to_city]\n",
    "    \n",
    "    # Optionally, return to start (make it a cycle)\n",
    "    # distance += theta_matrix[route[-1]][route[0]]\n",
    "    \n",
    "    # Convert city indices to names (optional)\n",
    "    city_names = ['A', 'B', 'C', 'D']\n",
    "    route_str = ' -> '.join([city_names[i] for i in route])\n",
    "    \n",
    "    print(f\"Route: {route_str} | Total Distance: {distance:.4f} radians\")\n"
   ]
  },
  {
   "cell_type": "code",
   "execution_count": null,
   "id": "04d2a692",
   "metadata": {},
   "outputs": [
    {
     "name": "stdout",
     "output_type": "stream",
     "text": [
      "Route: A -> B -> C -> D | Total Distance: 0.5890 radians\n",
      "Route: A -> B -> D -> C | Total Distance: 0.6872 radians\n",
      "Route: A -> C -> B -> D | Total Distance: 0.5890 radians\n",
      "Route: A -> C -> D -> B | Total Distance: 0.3927 radians\n",
      "Route: A -> D -> B -> C | Total Distance: 0.6872 radians\n",
      "Route: A -> D -> C -> B | Total Distance: 1.1781 radians\n"
     ]
    }
   ],
   "source": [
    "# Generate all permutations starting from city A (index 0)\n",
    "routes = [route for route in permutations(cities) if route[0] == 0]\n",
    "# Calculate and print distances for each route\n",
    "for route in routes:\n",
    "    distance = 0\n",
    "    for i in range(len(route) - 1):\n",
    "        from_city = route[i]\n",
    "        to_city = route[i + 1]\n",
    "        distance += theta_matrix[from_city][to_city]\n",
    "    \n",
    "    # Optionally, return to start (make it a cycle)\n",
    "    # distance += theta_matrix[route[-1]][route[0]]\n",
    "    \n",
    "    # Convert city indices to names (optional)\n",
    "    city_names = ['A', 'B', 'C', 'D']\n",
    "    route_str = ' -> '.join([city_names[i] for i in route])\n",
    "    \n",
    "    print(f\"Route: {route_str} | Total Distance: {distance:.4f} radians\")\n"
   ]
  },
  {
   "cell_type": "code",
   "execution_count": 6,
   "id": "68a1db2e",
   "metadata": {},
   "outputs": [
    {
     "name": "stdout",
     "output_type": "stream",
     "text": [
      "Route: A -> B -> C -> D | Encoded: 00011011\n",
      "Route: A -> B -> D -> C | Encoded: 00011110\n",
      "Route: A -> C -> B -> D | Encoded: 00100111\n",
      "Route: A -> C -> D -> B | Encoded: 00101101\n",
      "Route: A -> D -> B -> C | Encoded: 00110110\n",
      "Route: A -> D -> C -> B | Encoded: 00111001\n"
     ]
    }
   ],
   "source": [
    "# Mapping of city letters to IDs\n",
    "city_to_id = {'A': 0, 'B': 1, 'C': 2, 'D': 3}\n",
    "\n",
    "# List of routes starting from A\n",
    "routes = [\n",
    "    ['A', 'B', 'C', 'D'],\n",
    "    ['A', 'B', 'D', 'C'],\n",
    "    ['A', 'C', 'B', 'D'],\n",
    "    ['A', 'C', 'D', 'B'],\n",
    "    ['A', 'D', 'B', 'C'],\n",
    "    ['A', 'D', 'C', 'B']\n",
    "]\n",
    "\n",
    "def encode_route(route):\n",
    "    binary_string = ''.join(f'{city_to_id[city]:02b}' for city in route)\n",
    "    return binary_string\n",
    "\n",
    "# Encode and print all routes\n",
    "for route in routes:\n",
    "    encoded = encode_route(route)\n",
    "    route_str = ' -> '.join(route)\n",
    "    print(f\"Route: {route_str} | Encoded: {encoded}\")\n"
   ]
  }
 ],
 "metadata": {
  "kernelspec": {
   "display_name": "QCML_Project",
   "language": "python",
   "name": "python3"
  },
  "language_info": {
   "codemirror_mode": {
    "name": "ipython",
    "version": 3
   },
   "file_extension": ".py",
   "mimetype": "text/x-python",
   "name": "python",
   "nbconvert_exporter": "python",
   "pygments_lexer": "ipython3",
   "version": "3.12.7"
  }
 },
 "nbformat": 4,
 "nbformat_minor": 5
}
